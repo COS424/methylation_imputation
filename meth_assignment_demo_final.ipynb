{
 "cells": [
  {
   "cell_type": "markdown",
   "metadata": {},
   "source": [
    "# COS 424 Homework 2 Demo"
   ]
  },
  {
   "cell_type": "code",
   "execution_count": 1,
   "metadata": {
    "collapsed": true
   },
   "outputs": [],
   "source": [
    "import math\n",
    "import numpy as np \n",
    "from sklearn import tree\n",
    "from IPython.display import Image  \n",
    "from sklearn.externals.six import StringIO\n",
    "#import pydot\n",
    "import pandas\n",
    "import os\n",
    "# Enter your directory here\n",
    "os.chdir('/Users/brian_jo/Desktop/Project/COS424_2016/methylation_imputation')"
   ]
  },
  {
   "cell_type": "markdown",
   "metadata": {},
   "source": [
    "## Data import: writing a parser\n",
    "\n",
    "One approach to importing the dataset can be to write a custom parser that reads in the data in your preferred format: (we will discuss an alternate approach later) "
   ]
  },
  {
   "cell_type": "code",
   "execution_count": 57,
   "metadata": {
    "collapsed": true
   },
   "outputs": [],
   "source": [
    "# utility functions to parse chromosome files\n",
    "\n",
    "# parse training file\n",
    "def parseTrainFile(filename='data/intersected_final_chr1_cutoff_20_train.bed'):\n",
    "    # open train file\n",
    "    flTestTissue = open(filename, 'r')\n",
    "    lines = flTestTissue.readlines()\n",
    "    flTestTissue.close()\n",
    "\n",
    "    # example of a line\n",
    "    # chr1\t10562\t10564\t+\t0.82051283\t0.962963\t0.9305556\t0.79591835\t0.9315069\t0.92941177\t0.975\t0.9569892\t0.8125\tnan\t0.8518519\t0.8518519\t0.95454544\t0.8684211\t0.9661017\t0.8630137\t0.8679245\t0.9230769\t0.8372093\t0.9326923\t0.9425287\t0.975\t0.93670887\t0.9491525\t0.9425287\tnan\tnan\t0.8695652\t0.87931037\t0.88235295\t0.92941177\t0.9705882\t0.90625\t0\n",
    "\n",
    "    # parse lines\n",
    "    lineIndex = 0\n",
    "    dLocPredVals = {}\n",
    "    for line in lines:\n",
    "\titems = line[:-1].split('\t')\n",
    "\tchrom = items[0]\n",
    "\tlocStart = int(items[1])\n",
    "\tlocEnd = int(items[2])\n",
    "\tsign = items[3]\n",
    "\tmethVals = [float(a) for a in items[4:]]\t\n",
    "\tx = np.all(np.isnan(methVals))\n",
    "\t#print x\n",
    "        locPair = (lineIndex, locStart, locEnd)\n",
    "\tdLocPredVals[locPair] = np.array(methVals) \n",
    "\tlineIndex +=1\n",
    "    return dLocPredVals;\n",
    "\n",
    "    \n",
    "# parse predictor file    \n",
    "def parsePartialFullFile(filename='data/intersected_final_chr1_cutoff_20_sample_partial.bed'):\n",
    "    # open partial file\n",
    "    flTestTissue = open(filename, 'r')\n",
    "    lines = flTestTissue.readlines()\n",
    "    flTestTissue.close()\n",
    "\n",
    "    # chr1\t100508463\t100508465\t+\t      nan\t0\n",
    "    # chr1\t546983\t           546985\t+\t0.8518519\t1\n",
    "    \n",
    "    # parse lines\n",
    "    lPairs = []\n",
    "    trainingIndices = []\n",
    "    testingIndices = []\n",
    "    lineIndex = 0\n",
    "    for line in lines:\n",
    "\t#print line\n",
    "\titems = line[:-1].split('\t')\n",
    "\tchrom = items[0]\n",
    "\tlocStart = int(items[1])\n",
    "\tlocEnd = int(items[2])\n",
    "\tstrand = items[3]\n",
    "\tmethValStr = items[4]\n",
    "\t#print items[4]\n",
    "\tif methValStr == 'nan':\n",
    "\t    methVal = -2.0;\n",
    "\t    testingIndices.append(lineIndex)\n",
    "\telse:\n",
    "\t    methVal = float(methValStr)\n",
    "\t    trainingIndices.append(lineIndex)\n",
    "\tlocPair = [lineIndex, locStart, locEnd,methVal]\n",
    "\tlPairs.append(locPair)\n",
    "\tlineIndex +=1;\n",
    "    lPairs = np.array(lPairs)\n",
    "    return lPairs,testingIndices, trainingIndices\n",
    "\t"
   ]
  },
  {
   "cell_type": "code",
   "execution_count": 58,
   "metadata": {
    "collapsed": false
   },
   "outputs": [
    {
     "name": "stdout",
     "output_type": "stream",
     "text": [
      "Number of testing indices 372028\n",
      "Number of training indices 7523\n"
     ]
    }
   ],
   "source": [
    "# parse partial file\n",
    "lPairs,testingIndices, trainingIndices = parsePartialFullFile()\n",
    "print \"Number of testing indices \" + str(len(testingIndices))\n",
    "print \"Number of training indices \" + str(len(trainingIndices))"
   ]
  },
  {
   "cell_type": "code",
   "execution_count": 59,
   "metadata": {
    "collapsed": false
   },
   "outputs": [
    {
     "name": "stdout",
     "output_type": "stream",
     "text": [
      "379551\n",
      "379551\n"
     ]
    }
   ],
   "source": [
    "# parse training file\n",
    "dLocPredVals = parseTrainFile()\n",
    "print len(dLocPredVals.values())\n",
    "print len(testingIndices) + len(trainingIndices)"
   ]
  },
  {
   "cell_type": "code",
   "execution_count": 60,
   "metadata": {
    "collapsed": false
   },
   "outputs": [
    {
     "name": "stdout",
     "output_type": "stream",
     "text": [
      "(379551, 34)\n",
      "[ 0.9148936   0.9268293   0.96153843  0.8867925   0.921875    0.88709676\n",
      "  0.89830506  0.9701493   0.94545454  0.8913044   0.93939394  0.8965517\n",
      "  0.9047619   0.6875      0.9189189   0.94871795  0.9230769   0.94285715\n",
      "  0.884058    0.93939394  0.87096775  0.9183673   0.8947368   0.82608694\n",
      "  0.84444445  0.68795432  0.60750366  0.8         0.72911892  0.94736844\n",
      "  0.9322034   0.8636364   0.9574468   0.        ]\n",
      "[  1.08400000e+03   5.34241000e+05   5.34243000e+05   6.88888900e-01]\n"
     ]
    }
   ],
   "source": [
    "# replace nan-entries of the traininig data arrays by averages\n",
    "allStacked = np.array(dLocPredVals.values())\n",
    "colMeans = np.nanmean(allStacked,axis=0)\n",
    "\n",
    "#http://stackoverflow.com/questions/18689235/numpy-array-replace-nan-values-with-average-of-columns\n",
    "#Find indicies that you need to replace\n",
    "inds = np.where(np.isnan(allStacked))\n",
    "#Place column means in the indices. Align the arrays using take\n",
    "allStacked[inds]=np.take(colMeans,inds[1])\n",
    "\n",
    "# lets see how the data loots line\n",
    "print allStacked.shape\n",
    "print allStacked[testingIndices[0],:]\n",
    "print lPairs[trainingIndices[0]]"
   ]
  },
  {
   "cell_type": "code",
   "execution_count": 61,
   "metadata": {
    "collapsed": false
   },
   "outputs": [
    {
     "name": "stdout",
     "output_type": "stream",
     "text": [
      "(7523, 34)\n",
      "(7523,)\n"
     ]
    }
   ],
   "source": [
    "# extract training indices\n",
    "X = np.take(allStacked,trainingIndices,axis=0)\n",
    "Y = np.take(lPairs,trainingIndices,axis=0)\n",
    "Y = Y[:,3] # take the leftmost column\n",
    "print X.shape\n",
    "print Y.shape"
   ]
  },
  {
   "cell_type": "markdown",
   "metadata": {},
   "source": [
    "## Testing out a simple method: Decision Tree?\n",
    "\n",
    "Will creating a decision tree be a good approach for this problem? In this approach, we train a regression decision tree as our model. This model splits the data into a tree and fits a linear repression model at each leaf. The main motivation is that this model can simultaneously select features and tune linear regression models at each leaf, i.e. can explain non-linear relationships between input and output variables. Finally, it provides an explanation of the model through a visual tree."
   ]
  },
  {
   "cell_type": "code",
   "execution_count": 62,
   "metadata": {
    "collapsed": true
   },
   "outputs": [],
   "source": [
    "# train a regression decision tree classifier on the first 10 training entries\n",
    "# http://scikit-learn.org/stable/modules/generated/sklearn.tree.DecisionTreeRegressor.html\n",
    "\n",
    "clf = tree.DecisionTreeRegressor(max_depth=10)\n",
    "clf = clf.fit(X[0:1000], Y[0:1000])"
   ]
  },
  {
   "cell_type": "code",
   "execution_count": 63,
   "metadata": {
    "collapsed": true
   },
   "outputs": [],
   "source": [
    "# fit decision tree to all of data\n",
    "clf_all = clf.fit(X, Y)"
   ]
  },
  {
   "cell_type": "code",
   "execution_count": null,
   "metadata": {
    "collapsed": true
   },
   "outputs": [],
   "source": [
    "# draw decision tree - Keep in mind that you need to have pydot installed!\n",
    "from IPython.display import Image  \n",
    "dot_data = StringIO()  \n",
    "tree.export_graphviz(clf, out_file=dot_data)\n",
    "\n",
    "graph = pydot.graph_from_dot_data(dot_data.getvalue())  \n",
    "Image(graph.create_png())  \n",
    "#graph.write_pdf(\"dd.pdf\") "
   ]
  },
  {
   "cell_type": "code",
   "execution_count": 64,
   "metadata": {
    "collapsed": false
   },
   "outputs": [
    {
     "name": "stdout",
     "output_type": "stream",
     "text": [
      "(379551, 4)\n"
     ]
    }
   ],
   "source": [
    "# extract testing data\n",
    "# compare to existing values from the full file\n",
    "lPairs_all,_,_ = parsePartialFullFile('data/intersected_final_chr1_cutoff_20_sample_full.bed')\n",
    "print lPairs_all.shape"
   ]
  },
  {
   "cell_type": "code",
   "execution_count": 65,
   "metadata": {
    "collapsed": false
   },
   "outputs": [
    {
     "name": "stdout",
     "output_type": "stream",
     "text": [
      "Number of indices for which values exist: 375934\n",
      "Number of testing indices: 372028\n",
      "Number of testing indices: 368411\n"
     ]
    }
   ],
   "source": [
    "# some of the methylation values are not known, so we take care to filter those out\n",
    "# extract indices where values exist\n",
    "values_exist = np.where(lPairs_all[:,3]!=-2.0)[0]\n",
    "# find the trsting indices for which values exist\n",
    "final_testing_indices = np.intersect1d(values_exist, testingIndices)\n",
    "print \"Number of indices for which values exist: \" + str(len(values_exist))\n",
    "print \"Number of testing indices: \" + str(len(testingIndices))\n",
    "print \"Number of testing indices: \" + str(len(final_testing_indices)) "
   ]
  },
  {
   "cell_type": "code",
   "execution_count": 67,
   "metadata": {
    "collapsed": false
   },
   "outputs": [
    {
     "name": "stdout",
     "output_type": "stream",
     "text": [
      "Known values shape: (368411,)\n",
      "Test feature vectors shape: (368411, 34)\n",
      "Predictions: \n",
      "[ 0.74566285  0.74566285  0.74566285 ...,  0.78181282  0.74566285\n",
      "  0.74566285]\n",
      "Ground Truth: \n",
      "[ 0.9137931   0.9318182   0.91752577 ...,  0.89772725  0.87341774\n",
      "  0.96103895]\n"
     ]
    }
   ],
   "source": [
    "# extract the known values for testing\n",
    "Y_test1 = np.take(lPairs_all,final_testing_indices,axis=0)[:,3]\n",
    "print \"Known values shape: \" + str(Y_test1.shape)\n",
    "\n",
    "# extract testing data features for prediction\n",
    "X_test1 = np.take(allStacked,final_testing_indices,axis=0)\n",
    "print \"Test feature vectors shape: \" + str(X_test1.shape)\n",
    "\n",
    "predictions = clf.predict(X_test1)\n",
    "\n",
    "# print predictions\n",
    "print \"Predictions: \"\n",
    "print predictions\n",
    "print \"Ground Truth: \"\n",
    "print Y_test1\n"
   ]
  },
  {
   "cell_type": "code",
   "execution_count": 69,
   "metadata": {
    "collapsed": false
   },
   "outputs": [
    {
     "name": "stdout",
     "output_type": "stream",
     "text": [
      "                            OLS Regression Results                            \n",
      "==============================================================================\n",
      "Dep. Variable:                      y   R-squared:                       0.000\n",
      "Model:                            OLS   Adj. R-squared:                 -0.000\n",
      "Method:                 Least Squares   F-statistic:                    0.9086\n",
      "Date:                Thu, 03 Mar 2016   Prob (F-statistic):              0.340\n",
      "Time:                        18:18:16   Log-Likelihood:             4.8586e+05\n",
      "No. Observations:              368411   AIC:                        -9.717e+05\n",
      "Df Residuals:                  368409   BIC:                        -9.717e+05\n",
      "Df Model:                           1                                         \n",
      "Covariance Type:            nonrobust                                         \n",
      "==============================================================================\n",
      "                 coef    std err          t      P>|t|      [95.0% Conf. Int.]\n",
      "------------------------------------------------------------------------------\n",
      "const          0.7421      0.001   1435.228      0.000         0.741     0.743\n",
      "x1             0.0006      0.001      0.953      0.340        -0.001     0.002\n",
      "==============================================================================\n",
      "Omnibus:                   444230.972   Durbin-Watson:                   2.004\n",
      "Prob(Omnibus):                  0.000   Jarque-Bera (JB):         50802239.399\n",
      "Skew:                          -6.626   Prob(JB):                         0.00\n",
      "Kurtosis:                      58.981   Cond. No.                         9.79\n",
      "==============================================================================\n",
      "\n",
      "Warnings:\n",
      "[1] Standard Errors assume that the covariance matrix of the errors is correctly specified.\n"
     ]
    },
    {
     "data": {
      "image/png": "[encoded data removed]",
      "text/plain": [
       "<matplotlib.figure.Figure at 0x117772a90>"
      ]
     },
     "metadata": {},
     "output_type": "display_data"
    }
   ],
   "source": [
    "# fit a linear regression line\n",
    "# http://stackoverflow.com/questions/19068862/how-to-overplot-a-line-on-a-scatter-plot-in-python\n",
    "import statsmodels.api as sm\n",
    "xs = Y_test1\n",
    "ys = predictions\n",
    "results = sm.OLS(ys,sm.add_constant(xs)).fit()\n",
    "\n",
    "print results.summary()\n",
    "\n",
    "plt.scatter(xs,ys)\n",
    "\n",
    "#X_plot = np.linspace(0,1,100)\n",
    "plt.plot(xs, xs*results.params[0] + results.params[1])\n",
    "plt.xlabel('Ground Truth')\n",
    "plt.ylabel('Predictions')\n",
    "plt.title('Plot of Ground Truth Methylation values vs Predictions ( Training Data)')\n",
    "plt.show()"
   ]
  },
  {
   "cell_type": "code",
   "execution_count": 70,
   "metadata": {
    "collapsed": false
   },
   "outputs": [
    {
     "name": "stdout",
     "output_type": "stream",
     "text": [
      "0.0363286795224\n",
      "sqrt: 0.1906008382\n"
     ]
    }
   ],
   "source": [
    "# compute mean squared error\n",
    "mean_sq_error = np.mean((Y_test1-predictions)**2)\n",
    "print mean_sq_error\n",
    "print \"sqrt: \" + str(np.sqrt(mean_sq_error))"
   ]
  },
  {
   "cell_type": "code",
   "execution_count": 74,
   "metadata": {
    "collapsed": false
   },
   "outputs": [
    {
     "data": {
      "text/plain": [
       "array([[ 1.        ,  0.00157048],\n",
       "       [ 0.00157048,  1.        ]])"
      ]
     },
     "execution_count": 74,
     "metadata": {},
     "output_type": "execute_result"
    }
   ],
   "source": [
    "np.corrcoef(Y_test1,predictions)"
   ]
  },
  {
   "cell_type": "markdown",
   "metadata": {},
   "source": [
    "As you can see, with RMSE = 0.191 and r = 0.002, this is not performing as well as we would like... Let's start over, shall we?"
   ]
  },
  {
   "cell_type": "markdown",
   "metadata": {},
   "source": [
    "## Alternate method for Data import: pandas\n",
    "\n",
    "### [pandas](http://pandas.pydata.org/) is a python package that is aimed at dealing with data inputs that are well-organized, such as the .bed files that we have.\n",
    "\n",
    "For more information about various useful functionalities of pandas, go here:\n",
    "\n",
    "http://pandas.pydata.org/pandas-docs/stable/index.html\n",
    "\n",
    "You will also find a lot of helpful questions and answers that have been discussed in StackOverflow (simply google your question, and most likely, the top search results will be StackOverflow discussion threads)."
   ]
  },
  {
   "cell_type": "code",
   "execution_count": 2,
   "metadata": {
    "collapsed": true
   },
   "outputs": [],
   "source": [
    "# read_csv() function needs the parameter sep to tell it what your separator is\n",
    "train_bed = pandas.read_csv('data/intersected_final_chr1_cutoff_20_train.bed', sep='\\t', header=None)\n",
    "sample_p_bed = pandas.read_csv('data/intersected_final_chr1_cutoff_20_sample_partial.bed', sep='\\t', header=None)\n",
    "sample_f_bed = pandas.read_csv('data/intersected_final_chr1_cutoff_20_sample_full.bed', sep='\\t', header=None)"
   ]
  },
  {
   "cell_type": "code",
   "execution_count": 9,
   "metadata": {
    "collapsed": false
   },
   "outputs": [
    {
     "data": {
      "text/html": [
       "<div>\n",
       "<table border=\"1\" class=\"dataframe\">\n",
       "  <thead>\n",
       "    <tr style=\"text-align: right;\">\n",
       "      <th></th>\n",
       "      <th>0</th>\n",
       "      <th>1</th>\n",
       "      <th>2</th>\n",
       "      <th>3</th>\n",
       "      <th>4</th>\n",
       "      <th>5</th>\n",
       "      <th>6</th>\n",
       "      <th>7</th>\n",
       "      <th>8</th>\n",
       "      <th>9</th>\n",
       "      <th>...</th>\n",
       "      <th>28</th>\n",
       "      <th>29</th>\n",
       "      <th>30</th>\n",
       "      <th>31</th>\n",
       "      <th>32</th>\n",
       "      <th>33</th>\n",
       "      <th>34</th>\n",
       "      <th>35</th>\n",
       "      <th>36</th>\n",
       "      <th>37</th>\n",
       "    </tr>\n",
       "  </thead>\n",
       "  <tbody>\n",
       "    <tr>\n",
       "      <th>0</th>\n",
       "      <td>chr1</td>\n",
       "      <td>10468</td>\n",
       "      <td>10470</td>\n",
       "      <td>+</td>\n",
       "      <td>0.750000</td>\n",
       "      <td>0.681818</td>\n",
       "      <td>0.888889</td>\n",
       "      <td>0.518518</td>\n",
       "      <td>0.866667</td>\n",
       "      <td>0.971429</td>\n",
       "      <td>...</td>\n",
       "      <td>0.945946</td>\n",
       "      <td>NaN</td>\n",
       "      <td>NaN</td>\n",
       "      <td>0.875000</td>\n",
       "      <td>0.949152</td>\n",
       "      <td>0.861111</td>\n",
       "      <td>0.760000</td>\n",
       "      <td>NaN</td>\n",
       "      <td>0.437500</td>\n",
       "      <td>0</td>\n",
       "    </tr>\n",
       "    <tr>\n",
       "      <th>1</th>\n",
       "      <td>chr1</td>\n",
       "      <td>10492</td>\n",
       "      <td>10494</td>\n",
       "      <td>+</td>\n",
       "      <td>0.882353</td>\n",
       "      <td>0.705882</td>\n",
       "      <td>0.918367</td>\n",
       "      <td>0.842105</td>\n",
       "      <td>0.935484</td>\n",
       "      <td>0.964286</td>\n",
       "      <td>...</td>\n",
       "      <td>0.925532</td>\n",
       "      <td>NaN</td>\n",
       "      <td>NaN</td>\n",
       "      <td>0.909091</td>\n",
       "      <td>0.942529</td>\n",
       "      <td>0.814815</td>\n",
       "      <td>0.757576</td>\n",
       "      <td>NaN</td>\n",
       "      <td>0.660377</td>\n",
       "      <td>0</td>\n",
       "    </tr>\n",
       "    <tr>\n",
       "      <th>2</th>\n",
       "      <td>chr1</td>\n",
       "      <td>10496</td>\n",
       "      <td>10498</td>\n",
       "      <td>+</td>\n",
       "      <td>0.849315</td>\n",
       "      <td>0.843137</td>\n",
       "      <td>0.847458</td>\n",
       "      <td>0.883721</td>\n",
       "      <td>0.913043</td>\n",
       "      <td>0.922222</td>\n",
       "      <td>...</td>\n",
       "      <td>0.951456</td>\n",
       "      <td>NaN</td>\n",
       "      <td>NaN</td>\n",
       "      <td>0.916667</td>\n",
       "      <td>0.947917</td>\n",
       "      <td>0.918033</td>\n",
       "      <td>0.894737</td>\n",
       "      <td>0.921569</td>\n",
       "      <td>0.852459</td>\n",
       "      <td>0</td>\n",
       "    </tr>\n",
       "    <tr>\n",
       "      <th>3</th>\n",
       "      <td>chr1</td>\n",
       "      <td>10541</td>\n",
       "      <td>10543</td>\n",
       "      <td>+</td>\n",
       "      <td>0.868132</td>\n",
       "      <td>0.941176</td>\n",
       "      <td>0.939024</td>\n",
       "      <td>0.949152</td>\n",
       "      <td>0.956989</td>\n",
       "      <td>0.933333</td>\n",
       "      <td>...</td>\n",
       "      <td>0.889908</td>\n",
       "      <td>NaN</td>\n",
       "      <td>NaN</td>\n",
       "      <td>0.947368</td>\n",
       "      <td>0.684211</td>\n",
       "      <td>0.857143</td>\n",
       "      <td>0.916667</td>\n",
       "      <td>0.959459</td>\n",
       "      <td>0.974683</td>\n",
       "      <td>0</td>\n",
       "    </tr>\n",
       "    <tr>\n",
       "      <th>4</th>\n",
       "      <td>chr1</td>\n",
       "      <td>10562</td>\n",
       "      <td>10564</td>\n",
       "      <td>+</td>\n",
       "      <td>0.820513</td>\n",
       "      <td>0.962963</td>\n",
       "      <td>0.930556</td>\n",
       "      <td>0.795918</td>\n",
       "      <td>0.931507</td>\n",
       "      <td>0.929412</td>\n",
       "      <td>...</td>\n",
       "      <td>0.942529</td>\n",
       "      <td>NaN</td>\n",
       "      <td>NaN</td>\n",
       "      <td>0.869565</td>\n",
       "      <td>0.879310</td>\n",
       "      <td>0.882353</td>\n",
       "      <td>0.929412</td>\n",
       "      <td>0.970588</td>\n",
       "      <td>0.906250</td>\n",
       "      <td>0</td>\n",
       "    </tr>\n",
       "    <tr>\n",
       "      <th>5</th>\n",
       "      <td>chr1</td>\n",
       "      <td>10576</td>\n",
       "      <td>10578</td>\n",
       "      <td>+</td>\n",
       "      <td>0.661017</td>\n",
       "      <td>0.775510</td>\n",
       "      <td>0.887097</td>\n",
       "      <td>0.583333</td>\n",
       "      <td>0.880000</td>\n",
       "      <td>0.927536</td>\n",
       "      <td>...</td>\n",
       "      <td>0.878378</td>\n",
       "      <td>NaN</td>\n",
       "      <td>NaN</td>\n",
       "      <td>0.733333</td>\n",
       "      <td>0.945455</td>\n",
       "      <td>0.821429</td>\n",
       "      <td>0.742857</td>\n",
       "      <td>0.961538</td>\n",
       "      <td>0.777778</td>\n",
       "      <td>0</td>\n",
       "    </tr>\n",
       "    <tr>\n",
       "      <th>6</th>\n",
       "      <td>chr1</td>\n",
       "      <td>10578</td>\n",
       "      <td>10580</td>\n",
       "      <td>+</td>\n",
       "      <td>0.711864</td>\n",
       "      <td>0.804348</td>\n",
       "      <td>0.783333</td>\n",
       "      <td>0.676471</td>\n",
       "      <td>0.913043</td>\n",
       "      <td>0.941176</td>\n",
       "      <td>...</td>\n",
       "      <td>0.942857</td>\n",
       "      <td>NaN</td>\n",
       "      <td>NaN</td>\n",
       "      <td>0.857143</td>\n",
       "      <td>0.814815</td>\n",
       "      <td>0.764706</td>\n",
       "      <td>0.805970</td>\n",
       "      <td>0.918367</td>\n",
       "      <td>0.750000</td>\n",
       "      <td>0</td>\n",
       "    </tr>\n",
       "    <tr>\n",
       "      <th>7</th>\n",
       "      <td>chr1</td>\n",
       "      <td>10661</td>\n",
       "      <td>10663</td>\n",
       "      <td>+</td>\n",
       "      <td>0.765957</td>\n",
       "      <td>0.714286</td>\n",
       "      <td>0.647059</td>\n",
       "      <td>0.821429</td>\n",
       "      <td>0.851064</td>\n",
       "      <td>0.714286</td>\n",
       "      <td>...</td>\n",
       "      <td>NaN</td>\n",
       "      <td>NaN</td>\n",
       "      <td>NaN</td>\n",
       "      <td>NaN</td>\n",
       "      <td>0.934783</td>\n",
       "      <td>0.788462</td>\n",
       "      <td>0.658537</td>\n",
       "      <td>0.864865</td>\n",
       "      <td>0.521739</td>\n",
       "      <td>0</td>\n",
       "    </tr>\n",
       "    <tr>\n",
       "      <th>8</th>\n",
       "      <td>chr1</td>\n",
       "      <td>10669</td>\n",
       "      <td>10671</td>\n",
       "      <td>+</td>\n",
       "      <td>0.866667</td>\n",
       "      <td>0.892857</td>\n",
       "      <td>0.891304</td>\n",
       "      <td>0.944444</td>\n",
       "      <td>0.905660</td>\n",
       "      <td>0.762712</td>\n",
       "      <td>...</td>\n",
       "      <td>NaN</td>\n",
       "      <td>NaN</td>\n",
       "      <td>NaN</td>\n",
       "      <td>NaN</td>\n",
       "      <td>0.967742</td>\n",
       "      <td>0.949152</td>\n",
       "      <td>0.900000</td>\n",
       "      <td>0.931818</td>\n",
       "      <td>0.875000</td>\n",
       "      <td>0</td>\n",
       "    </tr>\n",
       "    <tr>\n",
       "      <th>9</th>\n",
       "      <td>chr1</td>\n",
       "      <td>10688</td>\n",
       "      <td>10690</td>\n",
       "      <td>+</td>\n",
       "      <td>0.897436</td>\n",
       "      <td>0.880952</td>\n",
       "      <td>0.867925</td>\n",
       "      <td>0.958333</td>\n",
       "      <td>0.900000</td>\n",
       "      <td>0.737500</td>\n",
       "      <td>...</td>\n",
       "      <td>0.964286</td>\n",
       "      <td>NaN</td>\n",
       "      <td>NaN</td>\n",
       "      <td>NaN</td>\n",
       "      <td>0.976744</td>\n",
       "      <td>0.888889</td>\n",
       "      <td>0.846154</td>\n",
       "      <td>0.936508</td>\n",
       "      <td>0.820513</td>\n",
       "      <td>0</td>\n",
       "    </tr>\n",
       "  </tbody>\n",
       "</table>\n",
       "<p>10 rows × 38 columns</p>\n",
       "</div>"
      ],
      "text/plain": [
       "     0      1      2  3         4         5         6         7         8   \\\n",
       "0  chr1  10468  10470  +  0.750000  0.681818  0.888889  0.518518  0.866667   \n",
       "1  chr1  10492  10494  +  0.882353  0.705882  0.918367  0.842105  0.935484   \n",
       "2  chr1  10496  10498  +  0.849315  0.843137  0.847458  0.883721  0.913043   \n",
       "3  chr1  10541  10543  +  0.868132  0.941176  0.939024  0.949152  0.956989   \n",
       "4  chr1  10562  10564  +  0.820513  0.962963  0.930556  0.795918  0.931507   \n",
       "5  chr1  10576  10578  +  0.661017  0.775510  0.887097  0.583333  0.880000   \n",
       "6  chr1  10578  10580  +  0.711864  0.804348  0.783333  0.676471  0.913043   \n",
       "7  chr1  10661  10663  +  0.765957  0.714286  0.647059  0.821429  0.851064   \n",
       "8  chr1  10669  10671  +  0.866667  0.892857  0.891304  0.944444  0.905660   \n",
       "9  chr1  10688  10690  +  0.897436  0.880952  0.867925  0.958333  0.900000   \n",
       "\n",
       "         9  ...        28  29  30        31        32        33        34  \\\n",
       "0  0.971429 ...  0.945946 NaN NaN  0.875000  0.949152  0.861111  0.760000   \n",
       "1  0.964286 ...  0.925532 NaN NaN  0.909091  0.942529  0.814815  0.757576   \n",
       "2  0.922222 ...  0.951456 NaN NaN  0.916667  0.947917  0.918033  0.894737   \n",
       "3  0.933333 ...  0.889908 NaN NaN  0.947368  0.684211  0.857143  0.916667   \n",
       "4  0.929412 ...  0.942529 NaN NaN  0.869565  0.879310  0.882353  0.929412   \n",
       "5  0.927536 ...  0.878378 NaN NaN  0.733333  0.945455  0.821429  0.742857   \n",
       "6  0.941176 ...  0.942857 NaN NaN  0.857143  0.814815  0.764706  0.805970   \n",
       "7  0.714286 ...       NaN NaN NaN       NaN  0.934783  0.788462  0.658537   \n",
       "8  0.762712 ...       NaN NaN NaN       NaN  0.967742  0.949152  0.900000   \n",
       "9  0.737500 ...  0.964286 NaN NaN       NaN  0.976744  0.888889  0.846154   \n",
       "\n",
       "         35        36  37  \n",
       "0       NaN  0.437500   0  \n",
       "1       NaN  0.660377   0  \n",
       "2  0.921569  0.852459   0  \n",
       "3  0.959459  0.974683   0  \n",
       "4  0.970588  0.906250   0  \n",
       "5  0.961538  0.777778   0  \n",
       "6  0.918367  0.750000   0  \n",
       "7  0.864865  0.521739   0  \n",
       "8  0.931818  0.875000   0  \n",
       "9  0.936508  0.820513   0  \n",
       "\n",
       "[10 rows x 38 columns]"
      ]
     },
     "execution_count": 9,
     "metadata": {},
     "output_type": "execute_result"
    }
   ],
   "source": [
    "# head() function outputs the first n rows of your data\n",
    "train_bed.head(n = 10)"
   ]
  },
  {
   "cell_type": "code",
   "execution_count": 10,
   "metadata": {
    "collapsed": false
   },
   "outputs": [
    {
     "data": {
      "text/html": [
       "<div>\n",
       "<table border=\"1\" class=\"dataframe\">\n",
       "  <thead>\n",
       "    <tr style=\"text-align: right;\">\n",
       "      <th></th>\n",
       "      <th>0</th>\n",
       "      <th>1</th>\n",
       "      <th>2</th>\n",
       "      <th>3</th>\n",
       "      <th>4</th>\n",
       "      <th>5</th>\n",
       "    </tr>\n",
       "  </thead>\n",
       "  <tbody>\n",
       "    <tr>\n",
       "      <th>0</th>\n",
       "      <td>chr1</td>\n",
       "      <td>10468</td>\n",
       "      <td>10470</td>\n",
       "      <td>+</td>\n",
       "      <td>0.913793</td>\n",
       "      <td>0</td>\n",
       "    </tr>\n",
       "    <tr>\n",
       "      <th>1</th>\n",
       "      <td>chr1</td>\n",
       "      <td>10492</td>\n",
       "      <td>10494</td>\n",
       "      <td>+</td>\n",
       "      <td>0.931818</td>\n",
       "      <td>0</td>\n",
       "    </tr>\n",
       "    <tr>\n",
       "      <th>2</th>\n",
       "      <td>chr1</td>\n",
       "      <td>10496</td>\n",
       "      <td>10498</td>\n",
       "      <td>+</td>\n",
       "      <td>0.917526</td>\n",
       "      <td>0</td>\n",
       "    </tr>\n",
       "    <tr>\n",
       "      <th>3</th>\n",
       "      <td>chr1</td>\n",
       "      <td>10541</td>\n",
       "      <td>10543</td>\n",
       "      <td>+</td>\n",
       "      <td>0.933884</td>\n",
       "      <td>0</td>\n",
       "    </tr>\n",
       "    <tr>\n",
       "      <th>4</th>\n",
       "      <td>chr1</td>\n",
       "      <td>10562</td>\n",
       "      <td>10564</td>\n",
       "      <td>+</td>\n",
       "      <td>0.936842</td>\n",
       "      <td>0</td>\n",
       "    </tr>\n",
       "    <tr>\n",
       "      <th>5</th>\n",
       "      <td>chr1</td>\n",
       "      <td>10576</td>\n",
       "      <td>10578</td>\n",
       "      <td>+</td>\n",
       "      <td>0.951219</td>\n",
       "      <td>0</td>\n",
       "    </tr>\n",
       "    <tr>\n",
       "      <th>6</th>\n",
       "      <td>chr1</td>\n",
       "      <td>10578</td>\n",
       "      <td>10580</td>\n",
       "      <td>+</td>\n",
       "      <td>0.897436</td>\n",
       "      <td>0</td>\n",
       "    </tr>\n",
       "    <tr>\n",
       "      <th>7</th>\n",
       "      <td>chr1</td>\n",
       "      <td>10661</td>\n",
       "      <td>10663</td>\n",
       "      <td>+</td>\n",
       "      <td>0.862745</td>\n",
       "      <td>0</td>\n",
       "    </tr>\n",
       "    <tr>\n",
       "      <th>8</th>\n",
       "      <td>chr1</td>\n",
       "      <td>10669</td>\n",
       "      <td>10671</td>\n",
       "      <td>+</td>\n",
       "      <td>0.939394</td>\n",
       "      <td>0</td>\n",
       "    </tr>\n",
       "    <tr>\n",
       "      <th>9</th>\n",
       "      <td>chr1</td>\n",
       "      <td>10688</td>\n",
       "      <td>10690</td>\n",
       "      <td>+</td>\n",
       "      <td>0.965517</td>\n",
       "      <td>0</td>\n",
       "    </tr>\n",
       "  </tbody>\n",
       "</table>\n",
       "</div>"
      ],
      "text/plain": [
       "      0      1      2  3         4  5\n",
       "0  chr1  10468  10470  +  0.913793  0\n",
       "1  chr1  10492  10494  +  0.931818  0\n",
       "2  chr1  10496  10498  +  0.917526  0\n",
       "3  chr1  10541  10543  +  0.933884  0\n",
       "4  chr1  10562  10564  +  0.936842  0\n",
       "5  chr1  10576  10578  +  0.951219  0\n",
       "6  chr1  10578  10580  +  0.897436  0\n",
       "7  chr1  10661  10663  +  0.862745  0\n",
       "8  chr1  10669  10671  +  0.939394  0\n",
       "9  chr1  10688  10690  +  0.965517  0"
      ]
     },
     "execution_count": 10,
     "metadata": {},
     "output_type": "execute_result"
    }
   ],
   "source": [
    "sample_f_bed.head(n = 10)"
   ]
  },
  {
   "cell_type": "markdown",
   "metadata": {},
   "source": [
    "The format of these .bed files are discussed in the github repo readme, as well as the assignment PDF."
   ]
  },
  {
   "cell_type": "code",
   "execution_count": 3,
   "metadata": {
    "collapsed": false
   },
   "outputs": [
    {
     "name": "stdout",
     "output_type": "stream",
     "text": [
      "7610\n",
      "(array([  1084,   1154,   1214, ..., 379252, 379258, 379368]),)\n"
     ]
    }
   ],
   "source": [
    "# You can refer to each *column* of the datatable by index:\n",
    "test_indeces = sample_p_bed[5]==1\n",
    "train_indeces = sample_p_bed[5]==0\n",
    "print(sum(test_indeces))\n",
    "print(np.where(test_indeces))"
   ]
  },
  {
   "cell_type": "markdown",
   "metadata": {},
   "source": [
    "There are 7610 positions (out of total 379551) where the last column entry is 1 (the positions that are observed in the 450K BeadChip).\n",
    "\n",
    "Now, let's try taking the mean of each row (mean methylation value across tissues at a location in chr1):"
   ]
  },
  {
   "cell_type": "code",
   "execution_count": 12,
   "metadata": {
    "collapsed": false
   },
   "outputs": [
    {
     "data": {
      "text/plain": [
       "0         0.782426\n",
       "1         0.836918\n",
       "2         0.897671\n",
       "3         0.913804\n",
       "4         0.907181\n",
       "5         0.801933\n",
       "6         0.809198\n",
       "7         0.698955\n",
       "8         0.889537\n",
       "9         0.864452\n",
       "10        0.724535\n",
       "11        0.881583\n",
       "12        0.894980\n",
       "13        0.885859\n",
       "14        0.724211\n",
       "15        0.884685\n",
       "16        0.808047\n",
       "17        0.896089\n",
       "18        0.892571\n",
       "19        0.704055\n",
       "20        0.783236\n",
       "21        0.711146\n",
       "22        0.391053\n",
       "23        0.235756\n",
       "24        0.141029\n",
       "25        0.388317\n",
       "26        0.342627\n",
       "27        0.643686\n",
       "28        0.468989\n",
       "29        0.426951\n",
       "            ...   \n",
       "379521    0.814346\n",
       "379522    0.893050\n",
       "379523    0.889165\n",
       "379524    0.903788\n",
       "379525    0.750231\n",
       "379526    0.825168\n",
       "379527    0.830262\n",
       "379528    0.788398\n",
       "379529    0.864323\n",
       "379530    0.918622\n",
       "379531    0.730308\n",
       "379532    0.890458\n",
       "379533    0.812594\n",
       "379534    0.880824\n",
       "379535    0.825518\n",
       "379536    0.842819\n",
       "379537    0.848609\n",
       "379538    0.800425\n",
       "379539    0.886900\n",
       "379540    0.888341\n",
       "379541    0.904936\n",
       "379542    0.795856\n",
       "379543    0.771345\n",
       "379544    0.867522\n",
       "379545    0.913678\n",
       "379546    0.921191\n",
       "379547    0.902365\n",
       "379548    0.827983\n",
       "379549    0.740661\n",
       "379550    0.894867\n",
       "dtype: float64"
      ]
     },
     "execution_count": 12,
     "metadata": {},
     "output_type": "execute_result"
    }
   ],
   "source": [
    "# mean() function with axis = 1 takes row-wise averages.\n",
    "train_bed[list(range(4,37))].mean(axis=1)"
   ]
  },
  {
   "cell_type": "markdown",
   "metadata": {},
   "source": [
    "You can see that the averages are all ratios (between 0 and 1)."
   ]
  },
  {
   "cell_type": "code",
   "execution_count": 4,
   "metadata": {
    "collapsed": false
   },
   "outputs": [
    {
     "data": {
      "image/png": "[encoded data removed]",
      "text/plain": [
       "<matplotlib.figure.Figure at 0x10aed4590>"
      ]
     },
     "metadata": {},
     "output_type": "display_data"
    }
   ],
   "source": [
    "%matplotlib inline\n",
    "\n",
    "import matplotlib.pyplot as plt\n",
    "\n",
    "# the histogram of the data\n",
    "plt.hist(train_bed[list(range(4,37))].mean(axis=1).tolist(), 50)\n",
    "\n",
    "plt.xlabel('Mean methylation proportion')\n",
    "plt.ylabel('Frequency')\n",
    "plt.title('Distribution of mean methylation across 33 samples')\n",
    "\n",
    "plt.show()"
   ]
  },
  {
   "cell_type": "markdown",
   "metadata": {},
   "source": [
    "## How good is the mean approximation?\n",
    "\n",
    "We can ask a very naive question: how good is the mean approximation for imputation? In this case, we just fill in the test files with the mean of 33 samples, and see how well the approximation performs."
   ]
  },
  {
   "cell_type": "code",
   "execution_count": 5,
   "metadata": {
    "collapsed": false
   },
   "outputs": [
    {
     "name": "stdout",
     "output_type": "stream",
     "text": [
      "7523\n",
      "368411\n"
     ]
    }
   ],
   "source": [
    "# Let's take indices of the sample file that aren't nans for comparison:\n",
    "# By the way, learning the python list comprehension construction is totally worth it.\n",
    "# Check out http://www.secnetix.de/olli/Python/list_comprehensions.hawk if the following code confuses you.\n",
    "\n",
    "not_nans_in_full = ~np.isnan(sample_f_bed[4])\n",
    "test_indeces_nan_filtered = [test_indeces[x] and not_nans_in_full[x] for x in range(len(test_indeces))]\n",
    "\n",
    "print(sum(test_indeces_nan_filtered))\n",
    "\n",
    "train_indeces_nan_filtered = [train_indeces[x] and not_nans_in_full[x] for x in range(len(train_indeces))]\n",
    "\n",
    "print(sum(train_indeces_nan_filtered))"
   ]
  },
  {
   "cell_type": "code",
   "execution_count": 6,
   "metadata": {
    "collapsed": false
   },
   "outputs": [
    {
     "data": {
      "text/plain": [
       "array([[ 1.        ,  0.79374181],\n",
       "       [ 0.79374181,  1.        ]])"
      ]
     },
     "execution_count": 6,
     "metadata": {},
     "output_type": "execute_result"
    }
   ],
   "source": [
    "# Python list comprehension keeps coming up...\n",
    "row_means = train_bed[list(range(4,37))].mean(axis=1)\n",
    "test_indeces_nan_filtered_numeric = np.where(test_indeces_nan_filtered)[0]\n",
    "\n",
    "row_means_test = [row_means[x] for x in test_indeces_nan_filtered_numeric]\n",
    "partial_values_test = [sample_f_bed[4][x] for x in test_indeces_nan_filtered_numeric]\n",
    "\n",
    "np.corrcoef(row_means_test, partial_values_test)"
   ]
  },
  {
   "cell_type": "markdown",
   "metadata": {},
   "source": [
    "Among test values (7523 of them, we are seeing r = 0.79 and r^2 = 0.63)."
   ]
  },
  {
   "cell_type": "code",
   "execution_count": 7,
   "metadata": {
    "collapsed": false
   },
   "outputs": [
    {
     "name": "stdout",
     "output_type": "stream",
     "text": [
      "0.157066842941\n"
     ]
    }
   ],
   "source": [
    "def rmse(predictions, targets):\n",
    "    return np.sqrt(((predictions - targets) ** 2).mean())\n",
    "\n",
    "print(rmse(np.array(row_means_test), np.array(partial_values_test)))"
   ]
  },
  {
   "cell_type": "markdown",
   "metadata": {},
   "source": [
    "And RMSE = 0.16. Let's see how well this generalizes to the rest of the test set, using the same method."
   ]
  },
  {
   "cell_type": "code",
   "execution_count": 8,
   "metadata": {
    "collapsed": false
   },
   "outputs": [
    {
     "name": "stdout",
     "output_type": "stream",
     "text": [
      "[[ 1.          0.77229991]\n",
      " [ 0.77229991  1.        ]]\n",
      "0.11748933978\n"
     ]
    }
   ],
   "source": [
    "train_indeces_nan_filtered_numeric = np.where(train_indeces_nan_filtered)[0]\n",
    "\n",
    "row_means_test = [row_means[x] for x in train_indeces_nan_filtered_numeric]\n",
    "full_values_test = [sample_f_bed[4][x] for x in train_indeces_nan_filtered_numeric]\n",
    "\n",
    "print(np.corrcoef(row_means_test, full_values_test))\n",
    "print(rmse(np.array(row_means_test), np.array(full_values_test)))"
   ]
  },
  {
   "cell_type": "markdown",
   "metadata": {},
   "source": [
    "We are seeing r = 0.772 (r^2 = 0.596), and RMSE = 0.117. This is not an excellent prediction (as you could probably guess), but let's see what happened with an informative graph:"
   ]
  },
  {
   "cell_type": "code",
   "execution_count": 52,
   "metadata": {
    "collapsed": false
   },
   "outputs": [
    {
     "data": {
      "image/png": "[encoded data removed]",
      "text/plain": [
       "<matplotlib.figure.Figure at 0x116a8d350>"
      ]
     },
     "metadata": {},
     "output_type": "display_data"
    }
   ],
   "source": [
    "%matplotlib inline\n",
    "\n",
    "plt.scatter(full_values_test, row_means_test)\n",
    "\n",
    "plt.xlabel('Actual methylation values')\n",
    "plt.ylabel('Prediction by taking row means')\n",
    "plt.title('Performance of the simplest predictor (row means)')\n",
    "\n",
    "plt.show()"
   ]
  },
  {
   "cell_type": "markdown",
   "metadata": {},
   "source": [
    "This graph actually could have an interesting interpretation: at any given location with actual methylation values (slicing the graph vertically), there is a distribution of means across other tissues. Is this distribution roughly Gaussian? Or is it some other distribution? You can probe further to find out! You may come across interesting conclusions, but this is not in the scope of this assignment."
   ]
  },
  {
   "cell_type": "markdown",
   "metadata": {},
   "source": [
    "## Let's try one other very simple approach - imputation by similarity\n",
    "\n",
    "There is another very naive hypothesis we can test: that the imputation values will roughly follow the pattern of the most similar tissue. The simplest way to implement this is to simply fill in all values with the methylation value of the closest tissue. (more sensible methods will take some weighted average among the 33 known tissues, *hint* *hint* ;) )"
   ]
  },
  {
   "cell_type": "code",
   "execution_count": 53,
   "metadata": {
    "collapsed": false
   },
   "outputs": [
    {
     "name": "stdout",
     "output_type": "stream",
     "text": [
      "Sample 4 has r = \n",
      "0.378598417584\n",
      "Sample 5 has r = \n",
      "0.345252677334\n",
      "Sample 6 has r = \n",
      "0.361315960374\n",
      "Sample 7 has r = \n",
      "0.317478997909\n",
      "Sample 8 has r = \n",
      "0.747913758746\n",
      "Sample 9 has r = \n",
      "0.800082923738\n",
      "Sample 10 has r = \n",
      "0.819903104044\n",
      "Sample 11 has r = \n",
      "0.726106574721\n",
      "Sample 12 has r = \n",
      "0.622060560327\n",
      "Sample 13 has r = \n",
      "0.415857835124\n",
      "Sample 14 has r = \n",
      "0.489532506005\n",
      "Sample 15 has r = \n",
      "0.530428055146\n",
      "Sample 16 has r = \n",
      "0.49737091449\n",
      "Sample 17 has r = \n",
      "0.456762207392\n",
      "Sample 18 has r = \n",
      "0.42315902776\n",
      "Sample 19 has r = \n",
      "0.452502097166\n",
      "Sample 20 has r = \n",
      "0.472791940205\n",
      "Sample 21 has r = \n",
      "0.595136127269\n",
      "Sample 22 has r = \n",
      "0.468653133869\n",
      "Sample 23 has r = \n",
      "0.958137133375\n",
      "Sample 24 has r = \n",
      "0.903443669227\n",
      "Sample 25 has r = \n",
      "0.907276390419\n",
      "Sample 26 has r = \n",
      "0.901410887449\n",
      "Sample 27 has r = \n",
      "0.881939901448\n",
      "Sample 28 has r = \n",
      "0.870240568323\n",
      "Sample 29 has r = \n",
      "0.285251817427\n",
      "Sample 30 has r = \n",
      "0.746240943036\n",
      "Sample 31 has r = \n",
      "0.748603867482\n",
      "Sample 32 has r = \n",
      "0.561316455818\n",
      "Sample 33 has r = \n",
      "0.414797029478\n",
      "Sample 34 has r = \n",
      "0.465293045341\n",
      "Sample 35 has r = \n",
      "0.891189876985\n",
      "Sample 36 has r = \n",
      "0.425833780183\n"
     ]
    }
   ],
   "source": [
    "# we have partial_values_test defined from above:\n",
    "for i in range(4,37):\n",
    "    test_array = [train_bed[i][x] for x in test_indeces_nan_filtered_numeric]\n",
    "    test_array_mod = [test_array[x] for x in range(len(test_array)) if ~np.isnan(test_array[x])]\n",
    "    temp_partial_values_test = [partial_values_test[x] for x in range(len(partial_values_test)) if ~np.isnan(test_array[x])]\n",
    "    print(\"Sample \" + str(i) + \" has r = \")\n",
    "    print(np.corrcoef(test_array_mod, temp_partial_values_test)[0,1])\n"
   ]
  },
  {
   "cell_type": "markdown",
   "metadata": {},
   "source": [
    "Our test sample is very similar to sample 23 (r = 0.958!!). Let's fill in our predictions with values from sample 23 and see what happens:"
   ]
  },
  {
   "cell_type": "code",
   "execution_count": 9,
   "metadata": {
    "collapsed": false
   },
   "outputs": [
    {
     "name": "stdout",
     "output_type": "stream",
     "text": [
      "[[ 1.          0.92177299]\n",
      " [ 0.92177299  1.        ]]\n",
      "0.0670191751457\n"
     ]
    }
   ],
   "source": [
    "samp_23_test = [train_bed[23][x] for x in train_indeces_nan_filtered_numeric]\n",
    "full_values_test = [sample_f_bed[4][x] for x in train_indeces_nan_filtered_numeric]\n",
    "\n",
    "# Need to take out nans. However, in the real assignment, you must fill in the nans with some value for full imputation:\n",
    "samp_23_test_mod = [samp_23_test[x] for x in range(len(samp_23_test)) if ~np.isnan(samp_23_test[x])]\n",
    "full_values_test_mod = [full_values_test[x] for x in range(len(samp_23_test)) if ~np.isnan(samp_23_test[x])]\n",
    "\n",
    "print(np.corrcoef(samp_23_test_mod, full_values_test_mod))\n",
    "print(rmse(np.array(samp_23_test_mod), np.array(full_values_test_mod)))"
   ]
  },
  {
   "cell_type": "code",
   "execution_count": 10,
   "metadata": {
    "collapsed": false
   },
   "outputs": [
    {
     "data": {
      "image/png": "[encoded data removed]",
      "text/plain": [
       "<matplotlib.figure.Figure at 0x10beaef50>"
      ]
     },
     "metadata": {},
     "output_type": "display_data"
    }
   ],
   "source": [
    "%matplotlib inline\n",
    "\n",
    "plt.scatter(full_values_test_mod, samp_23_test_mod)\n",
    "\n",
    "plt.xlabel('Actual methylation values')\n",
    "plt.ylabel('Prediction by taking values from the most similar sample')\n",
    "plt.title('Performance of the simplest predictor (row means)')\n",
    "\n",
    "plt.show()"
   ]
  },
  {
   "cell_type": "markdown",
   "metadata": {},
   "source": [
    "Even using this simple approach to use existing information from the sample_partial file provides a much better result (r = 0.922, r^2 = 0.850, RMSE = 0.067). Therefore, you can guess that from your assignment, we are generally expecting a result that is better than this, although we will not necessarily grade on accuracy of your imputation."
   ]
  },
  {
   "cell_type": "markdown",
   "metadata": {},
   "source": [
    "## Incorporating genetic and epigenetic information\n",
    "\n",
    "As you might be aware, the genome is not a random sequence of A,T,C,G's. There are a lot of information that is buried in the genome (a lot of which we still don't have a good understanding), and using annotations from previous experiments can help in analyses of studies that involving genetic sequences.\n",
    "\n",
    "For this exercise, we will import [ENCODE](https://www.encodeproject.org/) annotations of the genome into the pipeline. ENCODE outlines the putative regulatory elements in the genome that have been identified by a set of experiments. Since DNA methylation is an epigenetic feature, this set of information may give us a better understanding of the distribution of likely methylation sites.\n",
    "\n",
    "First, I navigate to ENCODE portal in UCSC genome browser:\n",
    "\n",
    "https://genome.ucsc.edu/ENCODE/downloads.html\n",
    "\n",
    "And want to incorporate information from transcription factor binding sites (Txn Factor ChIP):\n",
    "\n",
    "http://hgdownload.cse.ucsc.edu/goldenPath/hg19/encodeDCC/wgEncodeRegTfbsClustered/"
   ]
  },
  {
   "cell_type": "code",
   "execution_count": 4,
   "metadata": {
    "collapsed": false
   },
   "outputs": [],
   "source": [
    "# Note: this code assumes that you downloaded the Transcription factor database from ENCODE under ./annotations/\n",
    "txn_factors = pandas.read_csv('annotations/wgEncodeRegTfbsClusteredV3.bed', sep='\\t', header=None)"
   ]
  },
  {
   "cell_type": "code",
   "execution_count": 5,
   "metadata": {
    "collapsed": false
   },
   "outputs": [
    {
     "data": {
      "text/html": [
       "<div>\n",
       "<table border=\"1\" class=\"dataframe\">\n",
       "  <thead>\n",
       "    <tr style=\"text-align: right;\">\n",
       "      <th></th>\n",
       "      <th>0</th>\n",
       "      <th>1</th>\n",
       "      <th>2</th>\n",
       "      <th>3</th>\n",
       "      <th>4</th>\n",
       "      <th>5</th>\n",
       "      <th>6</th>\n",
       "      <th>7</th>\n",
       "    </tr>\n",
       "  </thead>\n",
       "  <tbody>\n",
       "    <tr>\n",
       "      <th>0</th>\n",
       "      <td>chr1</td>\n",
       "      <td>10073</td>\n",
       "      <td>10329</td>\n",
       "      <td>ZBTB33</td>\n",
       "      <td>354</td>\n",
       "      <td>2</td>\n",
       "      <td>204,246</td>\n",
       "      <td>354,138</td>\n",
       "    </tr>\n",
       "    <tr>\n",
       "      <th>1</th>\n",
       "      <td>chr1</td>\n",
       "      <td>10149</td>\n",
       "      <td>10413</td>\n",
       "      <td>CEBPB</td>\n",
       "      <td>201</td>\n",
       "      <td>1</td>\n",
       "      <td>343</td>\n",
       "      <td>201</td>\n",
       "    </tr>\n",
       "    <tr>\n",
       "      <th>2</th>\n",
       "      <td>chr1</td>\n",
       "      <td>16110</td>\n",
       "      <td>16390</td>\n",
       "      <td>CTCF</td>\n",
       "      <td>227</td>\n",
       "      <td>7</td>\n",
       "      <td>213,612,621,627,628,631,662</td>\n",
       "      <td>110,139,171,209,227,200,170</td>\n",
       "    </tr>\n",
       "    <tr>\n",
       "      <th>3</th>\n",
       "      <td>chr1</td>\n",
       "      <td>29198</td>\n",
       "      <td>29688</td>\n",
       "      <td>TAF1</td>\n",
       "      <td>184</td>\n",
       "      <td>1</td>\n",
       "      <td>157</td>\n",
       "      <td>184</td>\n",
       "    </tr>\n",
       "    <tr>\n",
       "      <th>4</th>\n",
       "      <td>chr1</td>\n",
       "      <td>29275</td>\n",
       "      <td>29591</td>\n",
       "      <td>GABPA</td>\n",
       "      <td>198</td>\n",
       "      <td>1</td>\n",
       "      <td>180</td>\n",
       "      <td>198</td>\n",
       "    </tr>\n",
       "    <tr>\n",
       "      <th>5</th>\n",
       "      <td>chr1</td>\n",
       "      <td>89795</td>\n",
       "      <td>90051</td>\n",
       "      <td>USF1</td>\n",
       "      <td>185</td>\n",
       "      <td>2</td>\n",
       "      <td>68,202</td>\n",
       "      <td>146,185</td>\n",
       "    </tr>\n",
       "    <tr>\n",
       "      <th>6</th>\n",
       "      <td>chr1</td>\n",
       "      <td>91156</td>\n",
       "      <td>91580</td>\n",
       "      <td>CTCF</td>\n",
       "      <td>223</td>\n",
       "      <td>9</td>\n",
       "      <td>9,640,645,657,663,669,672,675,685</td>\n",
       "      <td>183,223,138,115,115,145,141,144,220</td>\n",
       "    </tr>\n",
       "    <tr>\n",
       "      <th>7</th>\n",
       "      <td>chr1</td>\n",
       "      <td>104859</td>\n",
       "      <td>105089</td>\n",
       "      <td>CTCF</td>\n",
       "      <td>106</td>\n",
       "      <td>2</td>\n",
       "      <td>48,49</td>\n",
       "      <td>87,106</td>\n",
       "    </tr>\n",
       "    <tr>\n",
       "      <th>8</th>\n",
       "      <td>chr1</td>\n",
       "      <td>138850</td>\n",
       "      <td>139274</td>\n",
       "      <td>CTCF</td>\n",
       "      <td>166</td>\n",
       "      <td>3</td>\n",
       "      <td>24,213,679</td>\n",
       "      <td>166,125,127</td>\n",
       "    </tr>\n",
       "    <tr>\n",
       "      <th>9</th>\n",
       "      <td>chr1</td>\n",
       "      <td>235541</td>\n",
       "      <td>235877</td>\n",
       "      <td>SP1</td>\n",
       "      <td>120</td>\n",
       "      <td>1</td>\n",
       "      <td>196</td>\n",
       "      <td>120</td>\n",
       "    </tr>\n",
       "  </tbody>\n",
       "</table>\n",
       "</div>"
      ],
      "text/plain": [
       "      0       1       2       3    4  5                                  6  \\\n",
       "0  chr1   10073   10329  ZBTB33  354  2                            204,246   \n",
       "1  chr1   10149   10413   CEBPB  201  1                                343   \n",
       "2  chr1   16110   16390    CTCF  227  7        213,612,621,627,628,631,662   \n",
       "3  chr1   29198   29688    TAF1  184  1                                157   \n",
       "4  chr1   29275   29591   GABPA  198  1                                180   \n",
       "5  chr1   89795   90051    USF1  185  2                             68,202   \n",
       "6  chr1   91156   91580    CTCF  223  9  9,640,645,657,663,669,672,675,685   \n",
       "7  chr1  104859  105089    CTCF  106  2                              48,49   \n",
       "8  chr1  138850  139274    CTCF  166  3                         24,213,679   \n",
       "9  chr1  235541  235877     SP1  120  1                                196   \n",
       "\n",
       "                                     7  \n",
       "0                              354,138  \n",
       "1                                  201  \n",
       "2          110,139,171,209,227,200,170  \n",
       "3                                  184  \n",
       "4                                  198  \n",
       "5                              146,185  \n",
       "6  183,223,138,115,115,145,141,144,220  \n",
       "7                               87,106  \n",
       "8                          166,125,127  \n",
       "9                                  120  "
      ]
     },
     "execution_count": 5,
     "metadata": {},
     "output_type": "execute_result"
    }
   ],
   "source": [
    "txn_factors.head(n = 10)"
   ]
  },
  {
   "cell_type": "markdown",
   "metadata": {},
   "source": [
    "You can see that this file is also in bed format. You don't have to pay too much attention columns after 4 (it outlines details of the experimental evidence of this transcription factor). You are familiar with columns 0, 1 and 2, and column 3 outlines which transcription factor binds to this location."
   ]
  },
  {
   "cell_type": "code",
   "execution_count": 6,
   "metadata": {
    "collapsed": false
   },
   "outputs": [
    {
     "name": "stdout",
     "output_type": "stream",
     "text": [
      "set(['HSF1', 'SMARCC2', 'SMARCC1', 'POLR3G', 'MAFK', 'CCNT2', 'MAFF', 'ZNF143', 'BHLHE40', 'SIX5', 'HDAC6', 'BCLAF1', 'ZNF263', 'MYC', 'SETDB1', 'BRCA1', 'TRIM28', 'SP1', 'SP2', 'SP4', 'CREB1', 'ESRRA', 'NR2C2', 'GATA2', 'GATA3', 'GATA1', 'GTF2F1', 'RFX5', 'MAZ', 'RBBP5', 'FOXA1', 'RUNX3', 'ELK1', 'POU2F2', 'TCF12', 'CTBP2', 'MTA3', 'KDM5A', 'KDM5B', 'FOXP2', 'NFATC1', 'ZNF217', 'PRDM1', 'HMGN3', 'FAM48A', 'GTF3C2', 'TCF7L2', 'SMARCB1', 'SIRT6', 'CHD1', 'ZKSCAN1', 'CHD2', 'SAP30', 'RDBP', 'IKZF1', 'BACH1', 'EGR1', 'JUN', 'PPARGC1A', 'GTF2B', 'FOXA2', 'NFE2', 'KAP1', 'ZBTB33', 'ELK4', 'TCF3', 'FOS', 'ZNF274', 'PAX5', 'POLR2A', 'BRF2', 'STAT3', 'BRF1', 'ZEB1', 'TAF7', 'GRp20', 'TAF1', 'ESR1', 'TBP', 'HNF4G', 'HNF4A', 'MEF2C', 'MEF2A', 'CTCF', 'PHF8', 'HDAC1', 'HDAC2', 'YY1', 'BATF', 'HDAC8', 'RCOR1', 'FOXM1', 'SREBP1', 'CBX3', 'IRF3', 'SPI1', 'NANOG', 'STAT2', 'STAT1', 'SMC3', 'NR2F2', 'USF2', 'USF1', 'FOSL1', 'FOSL2', 'PML', 'ARID3A', 'TAL1', 'E2F6', 'BDP1', 'IRF1', 'MAX', 'EP300', 'RELA', 'TBL1XR1', 'IRF4', 'STAT5A', 'GABPA', 'NRF1', 'JUNB', 'BCL11A', 'JUND', 'WRNIP1', 'NFYB', 'NFYA', 'EZH2', 'ELF1', 'SRF', 'MYBL2', 'SMARCA4', 'TEAD4', 'CEBPB', 'CTCFL', 'TFAP2A', 'TFAP2C', 'UBTF', 'ZZZ3', 'ETS1', 'SUZ12', 'RPC155', 'SIN3A', 'NR3C1', 'ZBTB7A', 'RAD21', 'REST', 'RXRA', 'POU5F1', 'EBF1', 'PBX3', 'NFIC', 'THAP1', 'E2F4', 'E2F1', 'MXI1', 'CEBPD', 'SIN3AK20', 'MBD4', 'BCL3', 'ATF1', 'ATF3', 'ATF2'])\n",
      "161\n"
     ]
    }
   ],
   "source": [
    "# set() function takes the unique values from an array. There are 161 distinct TFs in this table.\n",
    "print(set(txn_factors[3]))\n",
    "print(len(set(txn_factors[3])))"
   ]
  },
  {
   "cell_type": "code",
   "execution_count": 7,
   "metadata": {
    "collapsed": true
   },
   "outputs": [],
   "source": [
    "# How many rows from each factor?\n",
    "factor_dict = {}\n",
    "for item in txn_factors[3]:\n",
    "    if item not in factor_dict:\n",
    "        factor_dict[item] = 0\n",
    "    factor_dict[item] += 1"
   ]
  },
  {
   "cell_type": "code",
   "execution_count": 8,
   "metadata": {
    "collapsed": false
   },
   "outputs": [
    {
     "name": "stdout",
     "output_type": "stream",
     "text": [
      "CTCF : 162209\n",
      "CEBPB : 146873\n",
      "EP300 : 138836\n",
      "POLR2A : 134990\n",
      "FOS : 131528\n",
      "RAD21 : 119039\n",
      "JUND : 97411\n",
      "MYC : 96959\n",
      "FOXA1 : 89906\n",
      "MAX : 85949\n",
      "MAFK : 84087\n",
      "GATA2 : 73974\n",
      "STAT3 : 67977\n",
      "SPI1 : 67572\n",
      "RUNX3 : 66222\n"
     ]
    }
   ],
   "source": [
    "# sorted() function sorts entries in a dictionary by the metric you specify.\n",
    "sorted_factors = sorted(factor_dict, key=factor_dict.get, reverse=True)\n",
    "for i in range(15):\n",
    "    print(sorted_factors[i] + \" : \" + str(factor_dict[sorted_factors[i]]))"
   ]
  },
  {
   "cell_type": "code",
   "execution_count": 16,
   "metadata": {
    "collapsed": true
   },
   "outputs": [],
   "source": [
    "# Let's only take CTCF entries in chr1.\n",
    "# List comprehension comes to save the day again.\n",
    "rows_to_take = [txn_factors[0][x] == 'chr1' and txn_factors[3][x] == 'CTCF' for x in range(len(txn_factors[0]))]"
   ]
  },
  {
   "cell_type": "code",
   "execution_count": 23,
   "metadata": {
    "collapsed": false
   },
   "outputs": [
    {
     "data": {
      "text/plain": [
       "14627"
      ]
     },
     "execution_count": 23,
     "metadata": {},
     "output_type": "execute_result"
    }
   ],
   "source": [
    "len(txn_factors[1][np.where(rows_to_take)[0]])"
   ]
  },
  {
   "cell_type": "code",
   "execution_count": 24,
   "metadata": {
    "collapsed": false
   },
   "outputs": [
    {
     "data": {
      "image/png": "[encoded data removed]",
      "text/plain": [
       "<matplotlib.figure.Figure at 0x10c48a550>"
      ]
     },
     "metadata": {},
     "output_type": "display_data"
    }
   ],
   "source": [
    "%matplotlib inline\n",
    "\n",
    "import matplotlib.pyplot as plt\n",
    "\n",
    "# the histogram of the data\n",
    "plt.hist(txn_factors[1][np.where(rows_to_take)[0]].tolist(), 1000)\n",
    "\n",
    "plt.xlabel('Location in Chr 1')\n",
    "plt.ylabel('Frequency')\n",
    "plt.title('Distribution of CTCF element sites in Chr 1')\n",
    "\n",
    "plt.show()"
   ]
  },
  {
   "cell_type": "markdown",
   "metadata": {},
   "source": [
    "There is a big gaping hole in the middle of the chromosome. What is going on? If you have a little bit of background in biology, you may be able to guess right away.\n",
    "\n",
    "Let me give you a hint:\n",
    "\n",
    "https://en.wikipedia.org/wiki/Centromere"
   ]
  }
 ],
 "metadata": {
  "kernelspec": {
   "display_name": "Python 2",
   "language": "python",
   "name": "python2"
  },
  "language_info": {
   "codemirror_mode": {
    "name": "ipython",
    "version": 2
   },
   "file_extension": ".py",
   "mimetype": "text/x-python",
   "name": "python",
   "nbconvert_exporter": "python",
   "pygments_lexer": "ipython2",
   "version": "2.7.10"
  }
 },
 "nbformat": 4,
 "nbformat_minor": 0
}
